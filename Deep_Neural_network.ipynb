{
  "nbformat": 4,
  "nbformat_minor": 0,
  "metadata": {
    "colab": {
      "name": "Deep_Neural_network.ipynb",
      "provenance": [],
      "authorship_tag": "ABX9TyNbJ7MHx06UXwL93vAgyVz3",
      "include_colab_link": true
    },
    "kernelspec": {
      "name": "python3",
      "display_name": "Python 3"
    }
  },
  "cells": [
    {
      "cell_type": "markdown",
      "metadata": {
        "id": "view-in-github",
        "colab_type": "text"
      },
      "source": [
        "<a href=\"https://colab.research.google.com/github/Hegazian/DataStructureAndAlgorithms/blob/master/Deep_Neural_network.ipynb\" target=\"_parent\"><img src=\"https://colab.research.google.com/assets/colab-badge.svg\" alt=\"Open In Colab\"/></a>"
      ]
    },
    {
      "cell_type": "code",
      "metadata": {
        "id": "yhrO5b9-_QRO",
        "colab_type": "code",
        "colab": {}
      },
      "source": [
        "import numpy as np\n",
        "import matplotlib.pyplot as plt\n",
        "from sklearn import datasets\n",
        "import keras\n",
        "from keras.models import Sequential\n",
        "from keras.layers import Dense\n",
        "from keras.optimizers import Adam"
      ],
      "execution_count": null,
      "outputs": []
    },
    {
      "cell_type": "code",
      "metadata": {
        "id": "91MkK4aD_dWJ",
        "colab_type": "code",
        "colab": {}
      },
      "source": [
        "n_pts = 500\n",
        "np.random.seed(0)\n",
        "X,y = datasets.make_circles(n_samples=n_pts, random_state=123,noise=0.1,factor=0.2)\n",
        "\n"
      ],
      "execution_count": null,
      "outputs": []
    },
    {
      "cell_type": "code",
      "metadata": {
        "id": "DqkI6UxABmC-",
        "colab_type": "code",
        "colab": {
          "base_uri": "https://localhost:8080/",
          "height": 265
        },
        "outputId": "b96b4e22-f656-4ec8-c421-1cd976bc5477"
      },
      "source": [
        "plt.scatter(X[y==0,0],X[y==0,1])\n",
        "plt.scatter(X[y==1,0],X[y==1,1])\n",
        "plt.show()"
      ],
      "execution_count": null,
      "outputs": [
        {
          "output_type": "display_data",
          "data": {
            "image/png": "[encoded data removed]",
            "text/plain": [
              "<Figure size 432x288 with 1 Axes>"
            ]
          },
          "metadata": {
            "tags": [],
            "needs_background": "light"
          }
        }
      ]
    },
    {
      "cell_type": "code",
      "metadata": {
        "id": "W65X-VSaCRnL",
        "colab_type": "code",
        "colab": {}
      },
      "source": [
        "model = Sequential()"
      ],
      "execution_count": null,
      "outputs": []
    },
    {
      "cell_type": "code",
      "metadata": {
        "id": "trv9ENSEIAr_",
        "colab_type": "code",
        "colab": {}
      },
      "source": [
        "model.add(Dense(4,input_shape=(2,),activation='sigmoid'))\n",
        "model.add(Dense(1,activation='sigmoid'))\n"
      ],
      "execution_count": null,
      "outputs": []
    },
    {
      "cell_type": "code",
      "metadata": {
        "id": "oA56EI2RI6kZ",
        "colab_type": "code",
        "colab": {}
      },
      "source": [
        "model.compile(Adam(learning_rate=0.01),'binary_crossentropy',metrics=['accuracy'])"
      ],
      "execution_count": null,
      "outputs": []
    },
    {
      "cell_type": "code",
      "metadata": {
        "id": "AmkUgjqBJI1o",
        "colab_type": "code",
        "colab": {
          "base_uri": "https://localhost:8080/",
          "height": 1000
        },
        "outputId": "9428180b-2f24-4a5e-f494-36c44b1de592"
      },
      "source": [
        "h = model.fit(x=X, y=y, verbose=1, batch_size=20, epochs=100, shuffle='true')"
      ],
      "execution_count": null,
      "outputs": [
        {
          "output_type": "stream",
          "text": [
            "Epoch 1/100\n",
            "25/25 [==============================] - 0s 922us/step - loss: 0.6978 - accuracy: 0.5380\n",
            "Epoch 2/100\n",
            "25/25 [==============================] - 0s 996us/step - loss: 0.6940 - accuracy: 0.4820\n",
            "Epoch 3/100\n",
            "25/25 [==============================] - 0s 1ms/step - loss: 0.6941 - accuracy: 0.4040\n",
            "Epoch 4/100\n",
            "25/25 [==============================] - 0s 940us/step - loss: 0.6936 - accuracy: 0.6740\n",
            "Epoch 5/100\n",
            "25/25 [==============================] - 0s 2ms/step - loss: 0.6950 - accuracy: 0.4260\n",
            "Epoch 6/100\n",
            "25/25 [==============================] - 0s 1ms/step - loss: 0.6947 - accuracy: 0.5100\n",
            "Epoch 7/100\n",
            "25/25 [==============================] - 0s 1ms/step - loss: 0.6935 - accuracy: 0.4320\n",
            "Epoch 8/100\n",
            "25/25 [==============================] - 0s 986us/step - loss: 0.6935 - accuracy: 0.5880\n",
            "Epoch 9/100\n",
            "25/25 [==============================] - 0s 1ms/step - loss: 0.6930 - accuracy: 0.4600\n",
            "Epoch 10/100\n",
            "25/25 [==============================] - 0s 920us/step - loss: 0.6927 - accuracy: 0.5320\n",
            "Epoch 11/100\n",
            "25/25 [==============================] - 0s 979us/step - loss: 0.6919 - accuracy: 0.6120\n",
            "Epoch 12/100\n",
            "25/25 [==============================] - 0s 1ms/step - loss: 0.6916 - accuracy: 0.4740\n",
            "Epoch 13/100\n",
            "25/25 [==============================] - 0s 953us/step - loss: 0.6900 - accuracy: 0.5460\n",
            "Epoch 14/100\n",
            "25/25 [==============================] - 0s 1ms/step - loss: 0.6887 - accuracy: 0.6680\n",
            "Epoch 15/100\n",
            "25/25 [==============================] - 0s 1ms/step - loss: 0.6878 - accuracy: 0.4440\n",
            "Epoch 16/100\n",
            "25/25 [==============================] - 0s 935us/step - loss: 0.6898 - accuracy: 0.5360\n",
            "Epoch 17/100\n",
            "25/25 [==============================] - 0s 977us/step - loss: 0.6837 - accuracy: 0.5180\n",
            "Epoch 18/100\n",
            "25/25 [==============================] - 0s 1ms/step - loss: 0.6798 - accuracy: 0.7080\n",
            "Epoch 19/100\n",
            "25/25 [==============================] - 0s 1ms/step - loss: 0.6782 - accuracy: 0.6660\n",
            "Epoch 20/100\n",
            "25/25 [==============================] - 0s 971us/step - loss: 0.6721 - accuracy: 0.7080\n",
            "Epoch 21/100\n",
            "25/25 [==============================] - 0s 988us/step - loss: 0.6647 - accuracy: 0.7200\n",
            "Epoch 22/100\n",
            "25/25 [==============================] - 0s 959us/step - loss: 0.6581 - accuracy: 0.8380\n",
            "Epoch 23/100\n",
            "25/25 [==============================] - 0s 927us/step - loss: 0.6494 - accuracy: 0.7360\n",
            "Epoch 24/100\n",
            "25/25 [==============================] - 0s 888us/step - loss: 0.6379 - accuracy: 0.8280\n",
            "Epoch 25/100\n",
            "25/25 [==============================] - 0s 1ms/step - loss: 0.6264 - accuracy: 0.8680\n",
            "Epoch 26/100\n",
            "25/25 [==============================] - 0s 961us/step - loss: 0.6132 - accuracy: 0.8600\n",
            "Epoch 27/100\n",
            "25/25 [==============================] - 0s 941us/step - loss: 0.5971 - accuracy: 0.8860\n",
            "Epoch 28/100\n",
            "25/25 [==============================] - 0s 913us/step - loss: 0.5783 - accuracy: 0.8820\n",
            "Epoch 29/100\n",
            "25/25 [==============================] - 0s 968us/step - loss: 0.5581 - accuracy: 0.8840\n",
            "Epoch 30/100\n",
            "25/25 [==============================] - 0s 989us/step - loss: 0.5377 - accuracy: 0.9140\n",
            "Epoch 31/100\n",
            "25/25 [==============================] - 0s 910us/step - loss: 0.5143 - accuracy: 0.8940\n",
            "Epoch 32/100\n",
            "25/25 [==============================] - 0s 1ms/step - loss: 0.4906 - accuracy: 0.9200\n",
            "Epoch 33/100\n",
            "25/25 [==============================] - 0s 967us/step - loss: 0.4660 - accuracy: 0.9620\n",
            "Epoch 34/100\n",
            "25/25 [==============================] - 0s 936us/step - loss: 0.4427 - accuracy: 0.9940\n",
            "Epoch 35/100\n",
            "25/25 [==============================] - 0s 976us/step - loss: 0.4186 - accuracy: 0.9900\n",
            "Epoch 36/100\n",
            "25/25 [==============================] - 0s 909us/step - loss: 0.3968 - accuracy: 0.9900\n",
            "Epoch 37/100\n",
            "25/25 [==============================] - 0s 917us/step - loss: 0.3745 - accuracy: 0.9940\n",
            "Epoch 38/100\n",
            "25/25 [==============================] - 0s 953us/step - loss: 0.3548 - accuracy: 0.9980\n",
            "Epoch 39/100\n",
            "25/25 [==============================] - 0s 857us/step - loss: 0.3349 - accuracy: 1.0000\n",
            "Epoch 40/100\n",
            "25/25 [==============================] - 0s 942us/step - loss: 0.3171 - accuracy: 1.0000\n",
            "Epoch 41/100\n",
            "25/25 [==============================] - 0s 1ms/step - loss: 0.3006 - accuracy: 1.0000\n",
            "Epoch 42/100\n",
            "25/25 [==============================] - 0s 1ms/step - loss: 0.2849 - accuracy: 1.0000\n",
            "Epoch 43/100\n",
            "25/25 [==============================] - 0s 892us/step - loss: 0.2706 - accuracy: 0.9980\n",
            "Epoch 44/100\n",
            "25/25 [==============================] - 0s 970us/step - loss: 0.2567 - accuracy: 1.0000\n",
            "Epoch 45/100\n",
            "25/25 [==============================] - 0s 878us/step - loss: 0.2442 - accuracy: 1.0000\n",
            "Epoch 46/100\n",
            "25/25 [==============================] - 0s 987us/step - loss: 0.2325 - accuracy: 1.0000\n",
            "Epoch 47/100\n",
            "25/25 [==============================] - 0s 1ms/step - loss: 0.2217 - accuracy: 1.0000\n",
            "Epoch 48/100\n",
            "25/25 [==============================] - 0s 1ms/step - loss: 0.2119 - accuracy: 1.0000\n",
            "Epoch 49/100\n",
            "25/25 [==============================] - 0s 971us/step - loss: 0.2021 - accuracy: 1.0000\n",
            "Epoch 50/100\n",
            "25/25 [==============================] - 0s 991us/step - loss: 0.1934 - accuracy: 1.0000\n",
            "Epoch 51/100\n",
            "25/25 [==============================] - 0s 1ms/step - loss: 0.1850 - accuracy: 1.0000\n",
            "Epoch 52/100\n",
            "25/25 [==============================] - 0s 888us/step - loss: 0.1772 - accuracy: 1.0000\n",
            "Epoch 53/100\n",
            "25/25 [==============================] - 0s 1ms/step - loss: 0.1698 - accuracy: 1.0000\n",
            "Epoch 54/100\n",
            "25/25 [==============================] - 0s 976us/step - loss: 0.1629 - accuracy: 1.0000\n",
            "Epoch 55/100\n",
            "25/25 [==============================] - 0s 919us/step - loss: 0.1566 - accuracy: 1.0000\n",
            "Epoch 56/100\n",
            "25/25 [==============================] - 0s 857us/step - loss: 0.1507 - accuracy: 1.0000\n",
            "Epoch 57/100\n",
            "25/25 [==============================] - 0s 893us/step - loss: 0.1448 - accuracy: 1.0000\n",
            "Epoch 58/100\n",
            "25/25 [==============================] - 0s 960us/step - loss: 0.1394 - accuracy: 1.0000\n",
            "Epoch 59/100\n",
            "25/25 [==============================] - 0s 925us/step - loss: 0.1344 - accuracy: 1.0000\n",
            "Epoch 60/100\n",
            "25/25 [==============================] - 0s 1ms/step - loss: 0.1295 - accuracy: 1.0000\n",
            "Epoch 61/100\n",
            "25/25 [==============================] - 0s 1ms/step - loss: 0.1247 - accuracy: 1.0000\n",
            "Epoch 62/100\n",
            "25/25 [==============================] - 0s 953us/step - loss: 0.1202 - accuracy: 1.0000\n",
            "Epoch 63/100\n",
            "25/25 [==============================] - 0s 980us/step - loss: 0.1162 - accuracy: 1.0000\n",
            "Epoch 64/100\n",
            "25/25 [==============================] - 0s 982us/step - loss: 0.1122 - accuracy: 1.0000\n",
            "Epoch 65/100\n",
            "25/25 [==============================] - 0s 875us/step - loss: 0.1084 - accuracy: 1.0000\n",
            "Epoch 66/100\n",
            "25/25 [==============================] - 0s 886us/step - loss: 0.1048 - accuracy: 1.0000\n",
            "Epoch 67/100\n",
            "25/25 [==============================] - 0s 1ms/step - loss: 0.1014 - accuracy: 1.0000\n",
            "Epoch 68/100\n",
            "25/25 [==============================] - 0s 956us/step - loss: 0.0983 - accuracy: 1.0000\n",
            "Epoch 69/100\n",
            "25/25 [==============================] - 0s 971us/step - loss: 0.0952 - accuracy: 1.0000\n",
            "Epoch 70/100\n",
            "25/25 [==============================] - 0s 1ms/step - loss: 0.0922 - accuracy: 1.0000\n",
            "Epoch 71/100\n",
            "25/25 [==============================] - 0s 1ms/step - loss: 0.0893 - accuracy: 1.0000\n",
            "Epoch 72/100\n",
            "25/25 [==============================] - 0s 961us/step - loss: 0.0866 - accuracy: 1.0000\n",
            "Epoch 73/100\n",
            "25/25 [==============================] - 0s 981us/step - loss: 0.0840 - accuracy: 1.0000\n",
            "Epoch 74/100\n",
            "25/25 [==============================] - 0s 929us/step - loss: 0.0815 - accuracy: 1.0000\n",
            "Epoch 75/100\n",
            "25/25 [==============================] - 0s 917us/step - loss: 0.0792 - accuracy: 1.0000\n",
            "Epoch 76/100\n",
            "25/25 [==============================] - 0s 951us/step - loss: 0.0769 - accuracy: 1.0000\n",
            "Epoch 77/100\n",
            "25/25 [==============================] - 0s 957us/step - loss: 0.0748 - accuracy: 1.0000\n",
            "Epoch 78/100\n",
            "25/25 [==============================] - 0s 922us/step - loss: 0.0728 - accuracy: 1.0000\n",
            "Epoch 79/100\n",
            "25/25 [==============================] - 0s 1ms/step - loss: 0.0707 - accuracy: 1.0000\n",
            "Epoch 80/100\n",
            "25/25 [==============================] - 0s 888us/step - loss: 0.0688 - accuracy: 1.0000\n",
            "Epoch 81/100\n",
            "25/25 [==============================] - 0s 954us/step - loss: 0.0668 - accuracy: 1.0000\n",
            "Epoch 82/100\n",
            "25/25 [==============================] - 0s 900us/step - loss: 0.0651 - accuracy: 1.0000\n",
            "Epoch 83/100\n",
            "25/25 [==============================] - 0s 976us/step - loss: 0.0633 - accuracy: 1.0000\n",
            "Epoch 84/100\n",
            "25/25 [==============================] - 0s 905us/step - loss: 0.0618 - accuracy: 1.0000\n",
            "Epoch 85/100\n",
            "25/25 [==============================] - 0s 1ms/step - loss: 0.0601 - accuracy: 1.0000\n",
            "Epoch 86/100\n",
            "25/25 [==============================] - 0s 925us/step - loss: 0.0586 - accuracy: 1.0000\n",
            "Epoch 87/100\n",
            "25/25 [==============================] - 0s 1ms/step - loss: 0.0572 - accuracy: 1.0000\n",
            "Epoch 88/100\n",
            "25/25 [==============================] - 0s 1ms/step - loss: 0.0558 - accuracy: 1.0000\n",
            "Epoch 89/100\n",
            "25/25 [==============================] - 0s 1ms/step - loss: 0.0544 - accuracy: 1.0000\n",
            "Epoch 90/100\n",
            "25/25 [==============================] - 0s 1ms/step - loss: 0.0530 - accuracy: 1.0000\n",
            "Epoch 91/100\n",
            "25/25 [==============================] - 0s 1ms/step - loss: 0.0517 - accuracy: 1.0000\n",
            "Epoch 92/100\n",
            "25/25 [==============================] - 0s 915us/step - loss: 0.0506 - accuracy: 1.0000\n",
            "Epoch 93/100\n",
            "25/25 [==============================] - 0s 953us/step - loss: 0.0494 - accuracy: 1.0000\n",
            "Epoch 94/100\n",
            "25/25 [==============================] - 0s 944us/step - loss: 0.0482 - accuracy: 1.0000\n",
            "Epoch 95/100\n",
            "25/25 [==============================] - 0s 935us/step - loss: 0.0471 - accuracy: 1.0000\n",
            "Epoch 96/100\n",
            "25/25 [==============================] - 0s 1ms/step - loss: 0.0460 - accuracy: 1.0000\n",
            "Epoch 97/100\n",
            "25/25 [==============================] - 0s 1ms/step - loss: 0.0450 - accuracy: 1.0000\n",
            "Epoch 98/100\n",
            "25/25 [==============================] - 0s 1ms/step - loss: 0.0440 - accuracy: 1.0000\n",
            "Epoch 99/100\n",
            "25/25 [==============================] - 0s 980us/step - loss: 0.0430 - accuracy: 1.0000\n",
            "Epoch 100/100\n",
            "25/25 [==============================] - 0s 1ms/step - loss: 0.0420 - accuracy: 1.0000\n"
          ],
          "name": "stdout"
        }
      ]
    },
    {
      "cell_type": "code",
      "metadata": {
        "id": "XBn-OH03L_3F",
        "colab_type": "code",
        "colab": {
          "base_uri": "https://localhost:8080/",
          "height": 296
        },
        "outputId": "0dee6583-06a0-40d3-cff3-facb3b397f30"
      },
      "source": [
        "plt.plot(h.history['accuracy'])\n",
        "plt.plot(h.history['loss'])\n",
        "plt.xlabel('epochs')"
      ],
      "execution_count": null,
      "outputs": [
        {
          "output_type": "execute_result",
          "data": {
            "text/plain": [
              "Text(0.5, 0, 'epochs')"
            ]
          },
          "metadata": {
            "tags": []
          },
          "execution_count": 8
        },
        {
          "output_type": "display_data",
          "data": {
            "image/png": "[encoded data removed]",
            "text/plain": [
              "<Figure size 432x288 with 1 Axes>"
            ]
          },
          "metadata": {
            "tags": [],
            "needs_background": "light"
          }
        }
      ]
    },
    {
      "cell_type": "code",
      "metadata": {
        "id": "MOVE4XIPQ6Do",
        "colab_type": "code",
        "colab": {}
      },
      "source": [
        "def plot_decision_boundary(X, y, model):\n",
        "    x_span = np.linspace(min(X[:,0]) - 0.25, max(X[:,0]) + 0.25)\n",
        "    y_span = np.linspace(min(X[:,1]) - 0.25, max(X[:,1]) + 0.25)\n",
        "    xx, yy = np.meshgrid(x_span, y_span)\n",
        "    xx_, yy_ = xx.ravel(), yy.ravel()\n",
        "    grid = np.c_[xx_, yy_]\n",
        "    pred_func = model.predict(grid)\n",
        "    z = pred_func.reshape(xx.shape)\n",
        "    plt.contourf(xx, yy, z)"
      ],
      "execution_count": null,
      "outputs": []
    },
    {
      "cell_type": "code",
      "metadata": {
        "id": "efd3IrcUR-FG",
        "colab_type": "code",
        "colab": {
          "base_uri": "https://localhost:8080/",
          "height": 282
        },
        "outputId": "8896add0-d16a-4e91-dba2-c0b45dec64c9"
      },
      "source": [
        "plot_decision_boundary(X, y, model)\n",
        "plt.scatter(X[:n_pts,0], X[:n_pts,1])\n",
        "plt.scatter(X[n_pts:,0], X[n_pts:,1])"
      ],
      "execution_count": null,
      "outputs": [
        {
          "output_type": "execute_result",
          "data": {
            "text/plain": [
              "<matplotlib.collections.PathCollection at 0x7f81db5d2400>"
            ]
          },
          "metadata": {
            "tags": []
          },
          "execution_count": 10
        },
        {
          "output_type": "display_data",
          "data": {
            "image/png": "[encoded data removed]",
            "text/plain": [
              "<Figure size 432x288 with 1 Axes>"
            ]
          },
          "metadata": {
            "tags": [],
            "needs_background": "light"
          }
        }
      ]
    },
    {
      "cell_type": "code",
      "metadata": {
        "id": "MMoj29iKR_ad",
        "colab_type": "code",
        "colab": {
          "base_uri": "https://localhost:8080/",
          "height": 282
        },
        "outputId": "0a522911-903c-4a7a-a230-8ab2419713a3"
      },
      "source": [
        "plot_decision_boundary(X, y, model)\n",
        "plt.scatter(X[:n_pts,0], X[:n_pts,1])\n",
        "plt.scatter(X[n_pts:,0], X[n_pts:,1])\n",
        "x = -0.7\n",
        "y = 1\n",
        " \n",
        "point = np.array([[x, y]])\n",
        "prediction = model.predict(point)\n",
        "plt.plot([x], [y], marker='o', markersize=10, color=\"red\")\n",
        "print(\"prediction is: \",prediction)"
      ],
      "execution_count": null,
      "outputs": [
        {
          "output_type": "stream",
          "text": [
            "prediction is:  [[0.02483159]]\n"
          ],
          "name": "stdout"
        },
        {
          "output_type": "display_data",
          "data": {
            "image/png": "[encoded data removed]",
            "text/plain": [
              "<Figure size 432x288 with 1 Axes>"
            ]
          },
          "metadata": {
            "tags": [],
            "needs_background": "light"
          }
        }
      ]
    },
    {
      "cell_type": "code",
      "metadata": {
        "id": "Ske9LzBLTHGU",
        "colab_type": "code",
        "colab": {}
      },
      "source": [
        ""
      ],
      "execution_count": null,
      "outputs": []
    }
  ]
}