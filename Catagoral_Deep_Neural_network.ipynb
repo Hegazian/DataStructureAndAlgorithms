{
  "nbformat": 4,
  "nbformat_minor": 0,
  "metadata": {
    "colab": {
      "name": "Catagoral_Deep_Neural_network.ipynb",
      "provenance": [],
      "authorship_tag": "ABX9TyP0DjV1CiuN7D1Iuz4dbXGR",
      "include_colab_link": true
    },
    "kernelspec": {
      "name": "python3",
      "display_name": "Python 3"
    }
  },
  "cells": [
    {
      "cell_type": "markdown",
      "metadata": {
        "id": "view-in-github",
        "colab_type": "text"
      },
      "source": [
        "<a href=\"https://colab.research.google.com/github/Hegazian/Deep_Learning/blob/master/Catagoral_Deep_Neural_network.ipynb\" target=\"_parent\"><img src=\"https://colab.research.google.com/assets/colab-badge.svg\" alt=\"Open In Colab\"/></a>"
      ]
    },
    {
      "cell_type": "code",
      "metadata": {
        "id": "Yt0SuCDYjpzY",
        "colab_type": "code",
        "colab": {}
      },
      "source": [
        "import numpy as np\n",
        "import matplotlib.pyplot as plt\n",
        "import keras\n",
        "from sklearn import datasets\n",
        "from keras.models import Sequential\n",
        "from keras.layers import Dense\n",
        "from keras.optimizers import Adam\n",
        "from keras.utils.np_utils import to_categorical"
      ],
      "execution_count": null,
      "outputs": []
    },
    {
      "cell_type": "code",
      "metadata": {
        "id": "MUeULVAUkvI0",
        "colab_type": "code",
        "colab": {}
      },
      "source": [
        "n_pts = 500\n",
        "centers = [[-1,1],[-1,-1],[1,-1],[1,1]]\n",
        "X,y = datasets.make_blobs(n_samples=n_pts,random_state=123,centers=centers,cluster_std=0.35)"
      ],
      "execution_count": null,
      "outputs": []
    },
    {
      "cell_type": "code",
      "metadata": {
        "id": "A55QtXN8oNzb",
        "colab_type": "code",
        "colab": {
          "base_uri": "https://localhost:8080/",
          "height": 265
        },
        "outputId": "f9a9e05d-9f23-4cad-c38d-b3fdc404b429"
      },
      "source": [
        "plt.scatter(X[y==0,0],X[y==0,1])\n",
        "plt.scatter(X[y==1,0],X[y==1,1])\n",
        "plt.scatter(X[y==2,0],X[y==2,1])\n",
        "plt.scatter(X[y==3,0],X[y==3,1])\n",
        "plt.show()"
      ],
      "execution_count": null,
      "outputs": [
        {
          "output_type": "display_data",
          "data": {
            "image/png": "[encoded data removed]",
            "text/plain": [
              "<Figure size 432x288 with 1 Axes>"
            ]
          },
          "metadata": {
            "tags": [],
            "needs_background": "light"
          }
        }
      ]
    },
    {
      "cell_type": "code",
      "metadata": {
        "id": "5NQ1louxodlQ",
        "colab_type": "code",
        "colab": {
          "base_uri": "https://localhost:8080/",
          "height": 252
        },
        "outputId": "ac14ed74-fcb2-4d91-f7b5-7cdaa44ac4d2"
      },
      "source": [
        "print(y)"
      ],
      "execution_count": null,
      "outputs": [
        {
          "output_type": "stream",
          "text": [
            "[3 2 3 0 2 1 0 3 3 3 2 2 0 0 1 3 3 3 3 0 3 0 2 3 1 2 1 0 3 2 2 1 0 3 1 0 3\n",
            " 0 3 0 0 2 2 0 2 0 2 3 0 3 0 1 2 0 1 3 3 0 2 3 0 2 0 3 1 1 1 2 2 1 2 1 1 1\n",
            " 2 1 3 1 2 3 0 1 3 2 1 1 3 2 2 3 1 0 3 1 3 3 1 1 3 0 3 2 1 3 3 1 1 2 2 2 1\n",
            " 2 0 0 1 0 3 3 3 3 1 3 2 2 1 3 3 0 1 0 1 0 0 3 0 1 0 3 3 0 3 2 3 3 2 3 0 0\n",
            " 0 3 2 0 3 1 0 1 2 1 2 0 1 1 2 3 3 1 2 1 3 2 2 1 1 2 3 0 0 1 0 1 3 3 2 1 2\n",
            " 1 2 1 0 2 3 1 0 0 0 0 3 2 0 3 2 2 3 1 0 3 3 1 1 1 2 0 3 3 0 1 3 2 3 0 3 0\n",
            " 1 2 2 0 0 0 3 2 3 2 3 0 0 1 1 3 0 3 1 3 2 1 2 3 3 2 2 1 0 1 3 1 1 1 3 3 1\n",
            " 0 0 1 2 2 2 2 2 3 2 2 2 0 0 0 3 0 2 0 0 0 3 1 2 1 3 2 0 0 1 2 1 2 2 1 2 0\n",
            " 0 0 3 1 1 1 0 0 0 1 0 0 1 1 3 1 3 1 1 3 0 0 1 3 0 2 3 3 3 2 3 0 1 2 1 3 1\n",
            " 0 0 2 3 1 2 1 1 2 0 3 2 1 2 2 2 0 3 1 3 0 2 1 0 1 2 2 3 3 0 3 1 2 3 2 1 0\n",
            " 3 2 3 1 1 2 3 2 0 2 2 2 2 0 1 3 3 3 0 2 2 1 3 0 3 0 0 3 1 2 1 2 0 1 0 0 1\n",
            " 2 2 0 0 1 3 1 2 0 3 0 1 0 3 1 0 0 1 2 1 3 0 1 1 0 2 2 3 2 1 2 2 1 0 0 0 1\n",
            " 3 3 2 1 0 2 1 3 2 3 3 0 0 2 1 0 0 2 1 2 3 3 2 1 2 2 0 1 2 0 1 1 2 0 1 2 3\n",
            " 3 0 3 2 2 0 2 3 0 3 1 2 2 0 2 0 1 1 1]\n"
          ],
          "name": "stdout"
        }
      ]
    },
    {
      "cell_type": "code",
      "metadata": {
        "id": "9asMQp4sqa2d",
        "colab_type": "code",
        "colab": {
          "base_uri": "https://localhost:8080/",
          "height": 134
        },
        "outputId": "b1398517-738d-4960-afde-c1409e490e46"
      },
      "source": [
        "Y = to_categorical(y=y,num_classes=4)\n",
        "print(Y)"
      ],
      "execution_count": null,
      "outputs": [
        {
          "output_type": "stream",
          "text": [
            "[[0. 0. 0. 1.]\n",
            " [0. 0. 1. 0.]\n",
            " [0. 0. 0. 1.]\n",
            " ...\n",
            " [0. 1. 0. 0.]\n",
            " [0. 1. 0. 0.]\n",
            " [0. 1. 0. 0.]]\n"
          ],
          "name": "stdout"
        }
      ]
    },
    {
      "cell_type": "code",
      "metadata": {
        "id": "Epf8Sj1nquKr",
        "colab_type": "code",
        "colab": {}
      },
      "source": [
        "model = Sequential()"
      ],
      "execution_count": null,
      "outputs": []
    },
    {
      "cell_type": "code",
      "metadata": {
        "id": "QhgpheevsOFM",
        "colab_type": "code",
        "colab": {}
      },
      "source": [
        "\n",
        "model.add(Dense(4, input_shape=(2,),activation='softmax'))\n",
        "model.compile(Adam(learning_rate=0.01),metrics=['accuracy'],loss='categorical_crossentropy')"
      ],
      "execution_count": null,
      "outputs": []
    },
    {
      "cell_type": "code",
      "metadata": {
        "id": "HvDxW3Jct35k",
        "colab_type": "code",
        "colab": {
          "base_uri": "https://localhost:8080/",
          "height": 1000
        },
        "outputId": "58443c42-16b0-427f-dbeb-2cb6b04809b0"
      },
      "source": [
        "h = model.fit(X,Y,batch_size=50,epochs=200,verbose=1)"
      ],
      "execution_count": null,
      "outputs": [
        {
          "output_type": "stream",
          "text": [
            "Epoch 1/200\n",
            "10/10 [==============================] - 0s 1ms/step - loss: 0.8770 - accuracy: 0.7540\n",
            "Epoch 2/200\n",
            "10/10 [==============================] - 0s 1ms/step - loss: 0.7671 - accuracy: 0.8500\n",
            "Epoch 3/200\n",
            "10/10 [==============================] - 0s 2ms/step - loss: 0.6745 - accuracy: 0.8920\n",
            "Epoch 4/200\n",
            "10/10 [==============================] - 0s 1ms/step - loss: 0.5942 - accuracy: 0.9300\n",
            "Epoch 5/200\n",
            "10/10 [==============================] - 0s 1ms/step - loss: 0.5283 - accuracy: 0.9560\n",
            "Epoch 6/200\n",
            "10/10 [==============================] - 0s 2ms/step - loss: 0.4737 - accuracy: 0.9680\n",
            "Epoch 7/200\n",
            "10/10 [==============================] - 0s 1ms/step - loss: 0.4275 - accuracy: 0.9780\n",
            "Epoch 8/200\n",
            "10/10 [==============================] - 0s 2ms/step - loss: 0.3886 - accuracy: 0.9820\n",
            "Epoch 9/200\n",
            "10/10 [==============================] - 0s 1ms/step - loss: 0.3562 - accuracy: 0.9840\n",
            "Epoch 10/200\n",
            "10/10 [==============================] - 0s 3ms/step - loss: 0.3282 - accuracy: 0.9860\n",
            "Epoch 11/200\n",
            "10/10 [==============================] - 0s 1ms/step - loss: 0.3039 - accuracy: 0.9860\n",
            "Epoch 12/200\n",
            "10/10 [==============================] - 0s 2ms/step - loss: 0.2832 - accuracy: 0.9880\n",
            "Epoch 13/200\n",
            "10/10 [==============================] - 0s 1ms/step - loss: 0.2650 - accuracy: 0.9880\n",
            "Epoch 14/200\n",
            "10/10 [==============================] - 0s 2ms/step - loss: 0.2488 - accuracy: 0.9880\n",
            "Epoch 15/200\n",
            "10/10 [==============================] - 0s 2ms/step - loss: 0.2345 - accuracy: 0.9880\n",
            "Epoch 16/200\n",
            "10/10 [==============================] - 0s 2ms/step - loss: 0.2217 - accuracy: 0.9880\n",
            "Epoch 17/200\n",
            "10/10 [==============================] - 0s 2ms/step - loss: 0.2105 - accuracy: 0.9880\n",
            "Epoch 18/200\n",
            "10/10 [==============================] - 0s 2ms/step - loss: 0.2000 - accuracy: 0.9880\n",
            "Epoch 19/200\n",
            "10/10 [==============================] - 0s 1ms/step - loss: 0.1907 - accuracy: 0.9880\n",
            "Epoch 20/200\n",
            "10/10 [==============================] - 0s 2ms/step - loss: 0.1824 - accuracy: 0.9880\n",
            "Epoch 21/200\n",
            "10/10 [==============================] - 0s 1ms/step - loss: 0.1745 - accuracy: 0.9880\n",
            "Epoch 22/200\n",
            "10/10 [==============================] - 0s 1ms/step - loss: 0.1675 - accuracy: 0.9880\n",
            "Epoch 23/200\n",
            "10/10 [==============================] - 0s 2ms/step - loss: 0.1609 - accuracy: 0.9880\n",
            "Epoch 24/200\n",
            "10/10 [==============================] - 0s 1ms/step - loss: 0.1549 - accuracy: 0.9880\n",
            "Epoch 25/200\n",
            "10/10 [==============================] - 0s 1ms/step - loss: 0.1493 - accuracy: 0.9900\n",
            "Epoch 26/200\n",
            "10/10 [==============================] - 0s 1ms/step - loss: 0.1442 - accuracy: 0.9900\n",
            "Epoch 27/200\n",
            "10/10 [==============================] - 0s 2ms/step - loss: 0.1394 - accuracy: 0.9900\n",
            "Epoch 28/200\n",
            "10/10 [==============================] - 0s 2ms/step - loss: 0.1350 - accuracy: 0.9900\n",
            "Epoch 29/200\n",
            "10/10 [==============================] - 0s 1ms/step - loss: 0.1308 - accuracy: 0.9900\n",
            "Epoch 30/200\n",
            "10/10 [==============================] - 0s 1ms/step - loss: 0.1268 - accuracy: 0.9900\n",
            "Epoch 31/200\n",
            "10/10 [==============================] - 0s 2ms/step - loss: 0.1232 - accuracy: 0.9920\n",
            "Epoch 32/200\n",
            "10/10 [==============================] - 0s 2ms/step - loss: 0.1198 - accuracy: 0.9920\n",
            "Epoch 33/200\n",
            "10/10 [==============================] - 0s 2ms/step - loss: 0.1165 - accuracy: 0.9920\n",
            "Epoch 34/200\n",
            "10/10 [==============================] - 0s 1ms/step - loss: 0.1134 - accuracy: 0.9920\n",
            "Epoch 35/200\n",
            "10/10 [==============================] - 0s 1ms/step - loss: 0.1106 - accuracy: 0.9920\n",
            "Epoch 36/200\n",
            "10/10 [==============================] - 0s 1ms/step - loss: 0.1078 - accuracy: 0.9920\n",
            "Epoch 37/200\n",
            "10/10 [==============================] - 0s 1ms/step - loss: 0.1052 - accuracy: 0.9920\n",
            "Epoch 38/200\n",
            "10/10 [==============================] - 0s 2ms/step - loss: 0.1028 - accuracy: 0.9920\n",
            "Epoch 39/200\n",
            "10/10 [==============================] - 0s 2ms/step - loss: 0.1004 - accuracy: 0.9920\n",
            "Epoch 40/200\n",
            "10/10 [==============================] - 0s 2ms/step - loss: 0.0982 - accuracy: 0.9920\n",
            "Epoch 41/200\n",
            "10/10 [==============================] - 0s 1ms/step - loss: 0.0961 - accuracy: 0.9920\n",
            "Epoch 42/200\n",
            "10/10 [==============================] - 0s 1ms/step - loss: 0.0941 - accuracy: 0.9920\n",
            "Epoch 43/200\n",
            "10/10 [==============================] - 0s 2ms/step - loss: 0.0922 - accuracy: 0.9920\n",
            "Epoch 44/200\n",
            "10/10 [==============================] - 0s 1ms/step - loss: 0.0904 - accuracy: 0.9920\n",
            "Epoch 45/200\n",
            "10/10 [==============================] - 0s 1ms/step - loss: 0.0886 - accuracy: 0.9920\n",
            "Epoch 46/200\n",
            "10/10 [==============================] - 0s 1ms/step - loss: 0.0869 - accuracy: 0.9920\n",
            "Epoch 47/200\n",
            "10/10 [==============================] - 0s 2ms/step - loss: 0.0853 - accuracy: 0.9920\n",
            "Epoch 48/200\n",
            "10/10 [==============================] - 0s 1ms/step - loss: 0.0838 - accuracy: 0.9920\n",
            "Epoch 49/200\n",
            "10/10 [==============================] - 0s 1ms/step - loss: 0.0823 - accuracy: 0.9920\n",
            "Epoch 50/200\n",
            "10/10 [==============================] - 0s 1ms/step - loss: 0.0809 - accuracy: 0.9920\n",
            "Epoch 51/200\n",
            "10/10 [==============================] - 0s 2ms/step - loss: 0.0795 - accuracy: 0.9920\n",
            "Epoch 52/200\n",
            "10/10 [==============================] - 0s 2ms/step - loss: 0.0782 - accuracy: 0.9920\n",
            "Epoch 53/200\n",
            "10/10 [==============================] - 0s 2ms/step - loss: 0.0770 - accuracy: 0.9920\n",
            "Epoch 54/200\n",
            "10/10 [==============================] - 0s 2ms/step - loss: 0.0758 - accuracy: 0.9920\n",
            "Epoch 55/200\n",
            "10/10 [==============================] - 0s 2ms/step - loss: 0.0746 - accuracy: 0.9920\n",
            "Epoch 56/200\n",
            "10/10 [==============================] - 0s 2ms/step - loss: 0.0735 - accuracy: 0.9920\n",
            "Epoch 57/200\n",
            "10/10 [==============================] - 0s 2ms/step - loss: 0.0724 - accuracy: 0.9920\n",
            "Epoch 58/200\n",
            "10/10 [==============================] - 0s 1ms/step - loss: 0.0713 - accuracy: 0.9920\n",
            "Epoch 59/200\n",
            "10/10 [==============================] - 0s 1ms/step - loss: 0.0703 - accuracy: 0.9920\n",
            "Epoch 60/200\n",
            "10/10 [==============================] - 0s 2ms/step - loss: 0.0693 - accuracy: 0.9920\n",
            "Epoch 61/200\n",
            "10/10 [==============================] - 0s 2ms/step - loss: 0.0683 - accuracy: 0.9920\n",
            "Epoch 62/200\n",
            "10/10 [==============================] - 0s 2ms/step - loss: 0.0674 - accuracy: 0.9920\n",
            "Epoch 63/200\n",
            "10/10 [==============================] - 0s 1ms/step - loss: 0.0666 - accuracy: 0.9920\n",
            "Epoch 64/200\n",
            "10/10 [==============================] - 0s 2ms/step - loss: 0.0657 - accuracy: 0.9920\n",
            "Epoch 65/200\n",
            "10/10 [==============================] - 0s 2ms/step - loss: 0.0649 - accuracy: 0.9920\n",
            "Epoch 66/200\n",
            "10/10 [==============================] - 0s 1ms/step - loss: 0.0641 - accuracy: 0.9920\n",
            "Epoch 67/200\n",
            "10/10 [==============================] - 0s 1ms/step - loss: 0.0633 - accuracy: 0.9920\n",
            "Epoch 68/200\n",
            "10/10 [==============================] - 0s 1ms/step - loss: 0.0625 - accuracy: 0.9920\n",
            "Epoch 69/200\n",
            "10/10 [==============================] - 0s 2ms/step - loss: 0.0618 - accuracy: 0.9920\n",
            "Epoch 70/200\n",
            "10/10 [==============================] - 0s 2ms/step - loss: 0.0611 - accuracy: 0.9920\n",
            "Epoch 71/200\n",
            "10/10 [==============================] - 0s 1ms/step - loss: 0.0603 - accuracy: 0.9920\n",
            "Epoch 72/200\n",
            "10/10 [==============================] - 0s 1ms/step - loss: 0.0597 - accuracy: 0.9920\n",
            "Epoch 73/200\n",
            "10/10 [==============================] - 0s 1ms/step - loss: 0.0590 - accuracy: 0.9920\n",
            "Epoch 74/200\n",
            "10/10 [==============================] - 0s 2ms/step - loss: 0.0583 - accuracy: 0.9920\n",
            "Epoch 75/200\n",
            "10/10 [==============================] - 0s 2ms/step - loss: 0.0578 - accuracy: 0.9920\n",
            "Epoch 76/200\n",
            "10/10 [==============================] - 0s 1ms/step - loss: 0.0571 - accuracy: 0.9920\n",
            "Epoch 77/200\n",
            "10/10 [==============================] - 0s 1ms/step - loss: 0.0565 - accuracy: 0.9920\n",
            "Epoch 78/200\n",
            "10/10 [==============================] - 0s 1ms/step - loss: 0.0560 - accuracy: 0.9920\n",
            "Epoch 79/200\n",
            "10/10 [==============================] - 0s 2ms/step - loss: 0.0554 - accuracy: 0.9920\n",
            "Epoch 80/200\n",
            "10/10 [==============================] - 0s 1ms/step - loss: 0.0549 - accuracy: 0.9920\n",
            "Epoch 81/200\n",
            "10/10 [==============================] - 0s 1ms/step - loss: 0.0543 - accuracy: 0.9920\n",
            "Epoch 82/200\n",
            "10/10 [==============================] - 0s 1ms/step - loss: 0.0538 - accuracy: 0.9920\n",
            "Epoch 83/200\n",
            "10/10 [==============================] - 0s 1ms/step - loss: 0.0533 - accuracy: 0.9920\n",
            "Epoch 84/200\n",
            "10/10 [==============================] - 0s 2ms/step - loss: 0.0528 - accuracy: 0.9920\n",
            "Epoch 85/200\n",
            "10/10 [==============================] - 0s 2ms/step - loss: 0.0524 - accuracy: 0.9920\n",
            "Epoch 86/200\n",
            "10/10 [==============================] - 0s 1ms/step - loss: 0.0518 - accuracy: 0.9920\n",
            "Epoch 87/200\n",
            "10/10 [==============================] - 0s 1ms/step - loss: 0.0513 - accuracy: 0.9920\n",
            "Epoch 88/200\n",
            "10/10 [==============================] - 0s 1ms/step - loss: 0.0509 - accuracy: 0.9920\n",
            "Epoch 89/200\n",
            "10/10 [==============================] - 0s 1ms/step - loss: 0.0505 - accuracy: 0.9920\n",
            "Epoch 90/200\n",
            "10/10 [==============================] - 0s 1ms/step - loss: 0.0500 - accuracy: 0.9920\n",
            "Epoch 91/200\n",
            "10/10 [==============================] - 0s 2ms/step - loss: 0.0496 - accuracy: 0.9920\n",
            "Epoch 92/200\n",
            "10/10 [==============================] - 0s 1ms/step - loss: 0.0492 - accuracy: 0.9920\n",
            "Epoch 93/200\n",
            "10/10 [==============================] - 0s 1ms/step - loss: 0.0488 - accuracy: 0.9920\n",
            "Epoch 94/200\n",
            "10/10 [==============================] - 0s 1ms/step - loss: 0.0484 - accuracy: 0.9920\n",
            "Epoch 95/200\n",
            "10/10 [==============================] - 0s 2ms/step - loss: 0.0480 - accuracy: 0.9920\n",
            "Epoch 96/200\n",
            "10/10 [==============================] - 0s 3ms/step - loss: 0.0476 - accuracy: 0.9920\n",
            "Epoch 97/200\n",
            "10/10 [==============================] - 0s 1ms/step - loss: 0.0473 - accuracy: 0.9920\n",
            "Epoch 98/200\n",
            "10/10 [==============================] - 0s 2ms/step - loss: 0.0469 - accuracy: 0.9920\n",
            "Epoch 99/200\n",
            "10/10 [==============================] - 0s 2ms/step - loss: 0.0465 - accuracy: 0.9920\n",
            "Epoch 100/200\n",
            "10/10 [==============================] - 0s 2ms/step - loss: 0.0462 - accuracy: 0.9920\n",
            "Epoch 101/200\n",
            "10/10 [==============================] - 0s 1ms/step - loss: 0.0459 - accuracy: 0.9920\n",
            "Epoch 102/200\n",
            "10/10 [==============================] - 0s 1ms/step - loss: 0.0455 - accuracy: 0.9920\n",
            "Epoch 103/200\n",
            "10/10 [==============================] - 0s 1ms/step - loss: 0.0452 - accuracy: 0.9920\n",
            "Epoch 104/200\n",
            "10/10 [==============================] - 0s 2ms/step - loss: 0.0449 - accuracy: 0.9920\n",
            "Epoch 105/200\n",
            "10/10 [==============================] - 0s 1ms/step - loss: 0.0446 - accuracy: 0.9920\n",
            "Epoch 106/200\n",
            "10/10 [==============================] - 0s 1ms/step - loss: 0.0443 - accuracy: 0.9920\n",
            "Epoch 107/200\n",
            "10/10 [==============================] - 0s 2ms/step - loss: 0.0439 - accuracy: 0.9920\n",
            "Epoch 108/200\n",
            "10/10 [==============================] - 0s 1ms/step - loss: 0.0436 - accuracy: 0.9920\n",
            "Epoch 109/200\n",
            "10/10 [==============================] - 0s 1ms/step - loss: 0.0433 - accuracy: 0.9920\n",
            "Epoch 110/200\n",
            "10/10 [==============================] - 0s 1ms/step - loss: 0.0430 - accuracy: 0.9920\n",
            "Epoch 111/200\n",
            "10/10 [==============================] - 0s 2ms/step - loss: 0.0428 - accuracy: 0.9920\n",
            "Epoch 112/200\n",
            "10/10 [==============================] - 0s 2ms/step - loss: 0.0425 - accuracy: 0.9920\n",
            "Epoch 113/200\n",
            "10/10 [==============================] - 0s 2ms/step - loss: 0.0422 - accuracy: 0.9920\n",
            "Epoch 114/200\n",
            "10/10 [==============================] - 0s 2ms/step - loss: 0.0419 - accuracy: 0.9920\n",
            "Epoch 115/200\n",
            "10/10 [==============================] - 0s 2ms/step - loss: 0.0417 - accuracy: 0.9920\n",
            "Epoch 116/200\n",
            "10/10 [==============================] - 0s 2ms/step - loss: 0.0415 - accuracy: 0.9920\n",
            "Epoch 117/200\n",
            "10/10 [==============================] - 0s 1ms/step - loss: 0.0412 - accuracy: 0.9920\n",
            "Epoch 118/200\n",
            "10/10 [==============================] - 0s 2ms/step - loss: 0.0409 - accuracy: 0.9920\n",
            "Epoch 119/200\n",
            "10/10 [==============================] - 0s 1ms/step - loss: 0.0407 - accuracy: 0.9920\n",
            "Epoch 120/200\n",
            "10/10 [==============================] - 0s 1ms/step - loss: 0.0404 - accuracy: 0.9920\n",
            "Epoch 121/200\n",
            "10/10 [==============================] - 0s 2ms/step - loss: 0.0402 - accuracy: 0.9920\n",
            "Epoch 122/200\n",
            "10/10 [==============================] - 0s 1ms/step - loss: 0.0399 - accuracy: 0.9920\n",
            "Epoch 123/200\n",
            "10/10 [==============================] - 0s 1ms/step - loss: 0.0397 - accuracy: 0.9920\n",
            "Epoch 124/200\n",
            "10/10 [==============================] - 0s 1ms/step - loss: 0.0395 - accuracy: 0.9920\n",
            "Epoch 125/200\n",
            "10/10 [==============================] - 0s 1ms/step - loss: 0.0393 - accuracy: 0.9920\n",
            "Epoch 126/200\n",
            "10/10 [==============================] - 0s 1ms/step - loss: 0.0391 - accuracy: 0.9920\n",
            "Epoch 127/200\n",
            "10/10 [==============================] - 0s 1ms/step - loss: 0.0389 - accuracy: 0.9920\n",
            "Epoch 128/200\n",
            "10/10 [==============================] - 0s 1ms/step - loss: 0.0387 - accuracy: 0.9920\n",
            "Epoch 129/200\n",
            "10/10 [==============================] - 0s 2ms/step - loss: 0.0384 - accuracy: 0.9920\n",
            "Epoch 130/200\n",
            "10/10 [==============================] - 0s 1ms/step - loss: 0.0383 - accuracy: 0.9920\n",
            "Epoch 131/200\n",
            "10/10 [==============================] - 0s 1ms/step - loss: 0.0380 - accuracy: 0.9920\n",
            "Epoch 132/200\n",
            "10/10 [==============================] - 0s 2ms/step - loss: 0.0378 - accuracy: 0.9920\n",
            "Epoch 133/200\n",
            "10/10 [==============================] - 0s 1ms/step - loss: 0.0376 - accuracy: 0.9920\n",
            "Epoch 134/200\n",
            "10/10 [==============================] - 0s 1ms/step - loss: 0.0374 - accuracy: 0.9920\n",
            "Epoch 135/200\n",
            "10/10 [==============================] - 0s 1ms/step - loss: 0.0373 - accuracy: 0.9920\n",
            "Epoch 136/200\n",
            "10/10 [==============================] - 0s 1ms/step - loss: 0.0371 - accuracy: 0.9920\n",
            "Epoch 137/200\n",
            "10/10 [==============================] - 0s 1ms/step - loss: 0.0369 - accuracy: 0.9920\n",
            "Epoch 138/200\n",
            "10/10 [==============================] - 0s 1ms/step - loss: 0.0367 - accuracy: 0.9920\n",
            "Epoch 139/200\n",
            "10/10 [==============================] - 0s 1ms/step - loss: 0.0366 - accuracy: 0.9920\n",
            "Epoch 140/200\n",
            "10/10 [==============================] - 0s 1ms/step - loss: 0.0363 - accuracy: 0.9920\n",
            "Epoch 141/200\n",
            "10/10 [==============================] - 0s 2ms/step - loss: 0.0362 - accuracy: 0.9920\n",
            "Epoch 142/200\n",
            "10/10 [==============================] - 0s 1ms/step - loss: 0.0360 - accuracy: 0.9920\n",
            "Epoch 143/200\n",
            "10/10 [==============================] - 0s 1ms/step - loss: 0.0358 - accuracy: 0.9920\n",
            "Epoch 144/200\n",
            "10/10 [==============================] - 0s 1ms/step - loss: 0.0357 - accuracy: 0.9920\n",
            "Epoch 145/200\n",
            "10/10 [==============================] - 0s 1ms/step - loss: 0.0355 - accuracy: 0.9920\n",
            "Epoch 146/200\n",
            "10/10 [==============================] - 0s 2ms/step - loss: 0.0353 - accuracy: 0.9920\n",
            "Epoch 147/200\n",
            "10/10 [==============================] - 0s 1ms/step - loss: 0.0352 - accuracy: 0.9920\n",
            "Epoch 148/200\n",
            "10/10 [==============================] - 0s 2ms/step - loss: 0.0350 - accuracy: 0.9920\n",
            "Epoch 149/200\n",
            "10/10 [==============================] - 0s 1ms/step - loss: 0.0349 - accuracy: 0.9920\n",
            "Epoch 150/200\n",
            "10/10 [==============================] - 0s 2ms/step - loss: 0.0347 - accuracy: 0.9920\n",
            "Epoch 151/200\n",
            "10/10 [==============================] - 0s 1ms/step - loss: 0.0345 - accuracy: 0.9920\n",
            "Epoch 152/200\n",
            "10/10 [==============================] - 0s 1ms/step - loss: 0.0344 - accuracy: 0.9920\n",
            "Epoch 153/200\n",
            "10/10 [==============================] - 0s 1ms/step - loss: 0.0343 - accuracy: 0.9920\n",
            "Epoch 154/200\n",
            "10/10 [==============================] - 0s 1ms/step - loss: 0.0341 - accuracy: 0.9920\n",
            "Epoch 155/200\n",
            "10/10 [==============================] - 0s 1ms/step - loss: 0.0340 - accuracy: 0.9920\n",
            "Epoch 156/200\n",
            "10/10 [==============================] - 0s 1ms/step - loss: 0.0339 - accuracy: 0.9920\n",
            "Epoch 157/200\n",
            "10/10 [==============================] - 0s 1ms/step - loss: 0.0337 - accuracy: 0.9920\n",
            "Epoch 158/200\n",
            "10/10 [==============================] - 0s 1ms/step - loss: 0.0336 - accuracy: 0.9920\n",
            "Epoch 159/200\n",
            "10/10 [==============================] - 0s 2ms/step - loss: 0.0334 - accuracy: 0.9920\n",
            "Epoch 160/200\n",
            "10/10 [==============================] - 0s 1ms/step - loss: 0.0333 - accuracy: 0.9920\n",
            "Epoch 161/200\n",
            "10/10 [==============================] - 0s 2ms/step - loss: 0.0332 - accuracy: 0.9920\n",
            "Epoch 162/200\n",
            "10/10 [==============================] - 0s 1ms/step - loss: 0.0330 - accuracy: 0.9920\n",
            "Epoch 163/200\n",
            "10/10 [==============================] - 0s 1ms/step - loss: 0.0329 - accuracy: 0.9920\n",
            "Epoch 164/200\n",
            "10/10 [==============================] - 0s 2ms/step - loss: 0.0328 - accuracy: 0.9920\n",
            "Epoch 165/200\n",
            "10/10 [==============================] - 0s 1ms/step - loss: 0.0326 - accuracy: 0.9920\n",
            "Epoch 166/200\n",
            "10/10 [==============================] - 0s 1ms/step - loss: 0.0326 - accuracy: 0.9920\n",
            "Epoch 167/200\n",
            "10/10 [==============================] - 0s 1ms/step - loss: 0.0324 - accuracy: 0.9920\n",
            "Epoch 168/200\n",
            "10/10 [==============================] - 0s 3ms/step - loss: 0.0323 - accuracy: 0.9920\n",
            "Epoch 169/200\n",
            "10/10 [==============================] - 0s 1ms/step - loss: 0.0322 - accuracy: 0.9920\n",
            "Epoch 170/200\n",
            "10/10 [==============================] - 0s 1ms/step - loss: 0.0320 - accuracy: 0.9920\n",
            "Epoch 171/200\n",
            "10/10 [==============================] - 0s 1ms/step - loss: 0.0319 - accuracy: 0.9920\n",
            "Epoch 172/200\n",
            "10/10 [==============================] - 0s 1ms/step - loss: 0.0318 - accuracy: 0.9920\n",
            "Epoch 173/200\n",
            "10/10 [==============================] - 0s 1ms/step - loss: 0.0317 - accuracy: 0.9920\n",
            "Epoch 174/200\n",
            "10/10 [==============================] - 0s 1ms/step - loss: 0.0316 - accuracy: 0.9920\n",
            "Epoch 175/200\n",
            "10/10 [==============================] - 0s 1ms/step - loss: 0.0314 - accuracy: 0.9920\n",
            "Epoch 176/200\n",
            "10/10 [==============================] - 0s 1ms/step - loss: 0.0314 - accuracy: 0.9920\n",
            "Epoch 177/200\n",
            "10/10 [==============================] - 0s 1ms/step - loss: 0.0312 - accuracy: 0.9920\n",
            "Epoch 178/200\n",
            "10/10 [==============================] - 0s 1ms/step - loss: 0.0311 - accuracy: 0.9920\n",
            "Epoch 179/200\n",
            "10/10 [==============================] - 0s 1ms/step - loss: 0.0310 - accuracy: 0.9920\n",
            "Epoch 180/200\n",
            "10/10 [==============================] - 0s 1ms/step - loss: 0.0309 - accuracy: 0.9920\n",
            "Epoch 181/200\n",
            "10/10 [==============================] - 0s 1ms/step - loss: 0.0308 - accuracy: 0.9920\n",
            "Epoch 182/200\n",
            "10/10 [==============================] - 0s 1ms/step - loss: 0.0307 - accuracy: 0.9920\n",
            "Epoch 183/200\n",
            "10/10 [==============================] - 0s 1ms/step - loss: 0.0306 - accuracy: 0.9920\n",
            "Epoch 184/200\n",
            "10/10 [==============================] - 0s 1ms/step - loss: 0.0305 - accuracy: 0.9920\n",
            "Epoch 185/200\n",
            "10/10 [==============================] - 0s 1ms/step - loss: 0.0304 - accuracy: 0.9920\n",
            "Epoch 186/200\n",
            "10/10 [==============================] - 0s 1ms/step - loss: 0.0303 - accuracy: 0.9920\n",
            "Epoch 187/200\n",
            "10/10 [==============================] - 0s 1ms/step - loss: 0.0302 - accuracy: 0.9920\n",
            "Epoch 188/200\n",
            "10/10 [==============================] - 0s 1ms/step - loss: 0.0301 - accuracy: 0.9920\n",
            "Epoch 189/200\n",
            "10/10 [==============================] - 0s 1ms/step - loss: 0.0300 - accuracy: 0.9920\n",
            "Epoch 190/200\n",
            "10/10 [==============================] - 0s 1ms/step - loss: 0.0299 - accuracy: 0.9920\n",
            "Epoch 191/200\n",
            "10/10 [==============================] - 0s 1ms/step - loss: 0.0299 - accuracy: 0.9920\n",
            "Epoch 192/200\n",
            "10/10 [==============================] - 0s 2ms/step - loss: 0.0297 - accuracy: 0.9920\n",
            "Epoch 193/200\n",
            "10/10 [==============================] - 0s 2ms/step - loss: 0.0296 - accuracy: 0.9920\n",
            "Epoch 194/200\n",
            "10/10 [==============================] - 0s 1ms/step - loss: 0.0295 - accuracy: 0.9920\n",
            "Epoch 195/200\n",
            "10/10 [==============================] - 0s 1ms/step - loss: 0.0294 - accuracy: 0.9920\n",
            "Epoch 196/200\n",
            "10/10 [==============================] - 0s 1ms/step - loss: 0.0294 - accuracy: 0.9920\n",
            "Epoch 197/200\n",
            "10/10 [==============================] - 0s 1ms/step - loss: 0.0293 - accuracy: 0.9920\n",
            "Epoch 198/200\n",
            "10/10 [==============================] - 0s 1ms/step - loss: 0.0292 - accuracy: 0.9920\n",
            "Epoch 199/200\n",
            "10/10 [==============================] - 0s 1ms/step - loss: 0.0291 - accuracy: 0.9920\n",
            "Epoch 200/200\n",
            "10/10 [==============================] - 0s 2ms/step - loss: 0.0291 - accuracy: 0.9920\n"
          ],
          "name": "stdout"
        }
      ]
    },
    {
      "cell_type": "code",
      "metadata": {
        "id": "w6ug0OnPuVnu",
        "colab_type": "code",
        "colab": {
          "base_uri": "https://localhost:8080/",
          "height": 296
        },
        "outputId": "3baa69be-98a3-4a8a-b2e1-bbbf30cee66f"
      },
      "source": [
        "plt.plot(h.history['accuracy'])\n",
        "plt.plot(h.history['loss'])\n",
        "plt.xlabel('epochs')"
      ],
      "execution_count": null,
      "outputs": [
        {
          "output_type": "execute_result",
          "data": {
            "text/plain": [
              "Text(0.5, 0, 'epochs')"
            ]
          },
          "metadata": {
            "tags": []
          },
          "execution_count": 9
        },
        {
          "output_type": "display_data",
          "data": {
            "image/png": "[encoded data removed]",
            "text/plain": [
              "<Figure size 432x288 with 1 Axes>"
            ]
          },
          "metadata": {
            "tags": [],
            "needs_background": "light"
          }
        }
      ]
    },
    {
      "cell_type": "code",
      "metadata": {
        "id": "gWO3BcF1ukMJ",
        "colab_type": "code",
        "colab": {}
      },
      "source": [
        "def plot_decision_boundary(X, y, model):\n",
        "    x_span = np.linspace(min(X[:,0]) - 0.25, max(X[:,0]) + 0.25)\n",
        "    y_span = np.linspace(min(X[:,1]) - 0.25, max(X[:,1]) + 0.25)\n",
        "    xx, yy = np.meshgrid(x_span, y_span)\n",
        "    xx_, yy_ = xx.ravel(), yy.ravel()\n",
        "    grid = np.c_[xx_, yy_]\n",
        "    pred_func = model.predict_classes(grid)\n",
        "    z = pred_func.reshape(xx.shape)\n",
        "    plt.contourf(xx, yy, z)"
      ],
      "execution_count": null,
      "outputs": []
    },
    {
      "cell_type": "code",
      "metadata": {
        "id": "9J1GoCPJu9gQ",
        "colab_type": "code",
        "colab": {
          "base_uri": "https://localhost:8080/",
          "height": 352
        },
        "outputId": "af087f48-1244-4c75-9310-7353fd7ddee7"
      },
      "source": [
        "plot_decision_boundary(X, Y, model)\n",
        "plt.scatter(X[y==0,0],X[y==0,1])\n",
        "plt.scatter(X[y==1,0],X[y==1,1])\n",
        "plt.scatter(X[y==2,0],X[y==2,1])\n",
        "plt.scatter(X[y==3,0],X[y==3,1])"
      ],
      "execution_count": null,
      "outputs": [
        {
          "output_type": "stream",
          "text": [
            "WARNING:tensorflow:From <ipython-input-10-9a26790fce0b>:7: Sequential.predict_classes (from tensorflow.python.keras.engine.sequential) is deprecated and will be removed after 2021-01-01.\n",
            "Instructions for updating:\n",
            "Please use instead:* `np.argmax(model.predict(x), axis=-1)`,   if your model does multi-class classification   (e.g. if it uses a `softmax` last-layer activation).* `(model.predict(x) > 0.5).astype(\"int32\")`,   if your model does binary classification   (e.g. if it uses a `sigmoid` last-layer activation).\n"
          ],
          "name": "stdout"
        },
        {
          "output_type": "execute_result",
          "data": {
            "text/plain": [
              "<matplotlib.collections.PathCollection at 0x7fbf37f85940>"
            ]
          },
          "metadata": {
            "tags": []
          },
          "execution_count": 11
        },
        {
          "output_type": "display_data",
          "data": {
            "image/png": "[encoded data removed]",
            "text/plain": [
              "<Figure size 432x288 with 1 Axes>"
            ]
          },
          "metadata": {
            "tags": [],
            "needs_background": "light"
          }
        }
      ]
    },
    {
      "cell_type": "code",
      "metadata": {
        "id": "yNZzC5ASu-OD",
        "colab_type": "code",
        "colab": {
          "base_uri": "https://localhost:8080/",
          "height": 282
        },
        "outputId": "d9f9751b-5b5e-4387-a7d4-1c0eabf49724"
      },
      "source": [
        "plot_decision_boundary(X, y, model)\n",
        "plt.scatter(X[:n_pts,0], X[:n_pts,1])\n",
        "plt.scatter(X[n_pts:,0], X[n_pts:,1])\n",
        "x = -0.7\n",
        "y = 1\n",
        " \n",
        "point = np.array([[x, y]])\n",
        "prediction = model.predict_classes(point)\n",
        "plt.plot([x], [y], marker='o', markersize=10, color=\"red\")\n",
        "print(\"prediction is: \",prediction)"
      ],
      "execution_count": null,
      "outputs": [
        {
          "output_type": "stream",
          "text": [
            "prediction is:  [0]\n"
          ],
          "name": "stdout"
        },
        {
          "output_type": "display_data",
          "data": {
            "image/png": "[encoded data removed]",
            "text/plain": [
              "<Figure size 432x288 with 1 Axes>"
            ]
          },
          "metadata": {
            "tags": [],
            "needs_background": "light"
          }
        }
      ]
    },
    {
      "cell_type": "code",
      "metadata": {
        "id": "GcJkifkU7atd",
        "colab_type": "code",
        "colab": {}
      },
      "source": [
        ""
      ],
      "execution_count": null,
      "outputs": []
    }
  ]
}